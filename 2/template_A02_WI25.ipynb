{
 "cells": [
  {
   "cell_type": "raw",
   "metadata": {},
   "source": [
    "---\n",
    "title: \"Assignment 2\"\n",
    "subtitle: \"STAT 201\"\n",
    "author: \"Jayna Dunwoody\"\n",
    "format:\n",
    "  html:\n",
    "    toc: true\n",
    "    embed-resources: true\n",
    "---"
   ]
  },
  {
   "cell_type": "markdown",
   "metadata": {},
   "source": [
    "### Instructions"
   ]
  },
  {
   "cell_type": "markdown",
   "metadata": {},
   "source": [
    "1. **Write your name** on the assignment.\n",
    "\n",
    "2. Write your code in the *Code* cells of the **template provided** to write solutions for the assignment. **Do not open a new notebook**, and work from scratch. Ensure that the solution is written neatly enough to understand and grade.\n",
    "\n",
    "3. Use [Quarto](https://quarto.org/docs/output-formats/html-basics.html) to print the *.ipynb* file as HTML. You will need to open the command prompt, navigate to the directory containing the file, and use the command: `quarto render filename.ipynb --to html`. Submit the HTML file.\n",
    "\n",
    "4. You may talk to a friend, discuss the questions and potential directions for solving them. However, you need to write your own solutions and code separately, and not as a group activity. Do not use AI to solve the problems.\n",
    "\n",
    "5. There are 2 points for cleanliness and organization. The breakdown is as follows:\n",
    "    - Must be an HTML file rendered using Quarto. \n",
    "    - There aren’t excessively long outputs of extraneous information (e.g. no printouts of unnecessary results without good reason, there aren’t long printouts of which iteration a loop is on, there aren’t long sections of commented-out code, etc.). There is no piece of unnecessary / redundant code, and no unnecessary / redundant text\n",
    "    - The code follows the [python style guide](https://peps.python.org/pep-0008/) for naming variables, spaces, indentation, etc.\n",
    "    - The code should be commented and clearly written with intuitive variable names. For example, use variable names such as number_input, factor, hours, instead of a,b,xyz, etc."
   ]
  },
  {
   "cell_type": "markdown",
   "metadata": {},
   "source": [
    "### Question 1 (3 points)"
   ]
  },
  {
   "cell_type": "markdown",
   "metadata": {},
   "source": [
    "a) Write a program that counts down from 5 and then prints the message \"Go\"."
   ]
  },
  {
   "cell_type": "code",
   "execution_count": 34,
   "metadata": {},
   "outputs": [
    {
     "name": "stdout",
     "output_type": "stream",
     "text": [
      "5... 4... 3... 2... 1... Go!\n"
     ]
    }
   ],
   "source": [
    "from time import sleep\n",
    "\n",
    "def countdown_from_five():\n",
    "    for num in range(5,0,-1):\n",
    "        print(num,\"...\", sep=\"\", end=\" \")\n",
    "        sleep(.5)\n",
    "    print(\"Go!\")\n",
    "\n",
    "countdown_from_five()"
   ]
  },
  {
   "cell_type": "markdown",
   "metadata": {},
   "source": [
    "b) Write a program that asks the user for an integer, then counts down from that integer and then prints the message \"Go\". Use a try-except to ensure the user entered an integer. If it is not an integer, return the message \"You must enter an integer\". Show the output of the program if the user inputs `3`. "
   ]
  },
  {
   "cell_type": "code",
   "execution_count": 33,
   "metadata": {},
   "outputs": [
    {
     "name": "stdout",
     "output_type": "stream",
     "text": [
      "3... 2... 1... Go!\n"
     ]
    }
   ],
   "source": [
    "from time import sleep\n",
    "\n",
    "def countdown_from_user_input():\n",
    "    try:\n",
    "        countdown = int(input(\"Please enter an integer: \"))\n",
    "        if countdown==3:\n",
    "            for num in range(countdown, 0, -1):\n",
    "                print(num,\"...\", sep=\"\", end=\" \")\n",
    "                sleep(.5)\n",
    "            print(\"Go!\")\n",
    "    except:\n",
    "        print(\"You must enter an integer\")\n",
    "\n",
    "        \n",
    "\n",
    "countdown_from_user_input()"
   ]
  },
  {
   "cell_type": "markdown",
   "metadata": {},
   "source": [
    "c) Copy and modify part b to allow the user to keep entering input until they correctly enter an integer (ie: don't end after the except). Show the output of the program if the user first inputs `8.9` and then inputs `7`. "
   ]
  },
  {
   "cell_type": "code",
   "execution_count": 49,
   "metadata": {},
   "outputs": [
    {
     "name": "stdout",
     "output_type": "stream",
     "text": [
      "You must enter an integer\n",
      "7... 6... 5... 4... 3... 2... 1... \n",
      "Go!\n"
     ]
    }
   ],
   "source": [
    "from time import sleep\n",
    "\n",
    "def countdown_from_user_input():\n",
    "    flag = True\n",
    "    first_num_value = 0\n",
    "    second_num_value = 0\n",
    "    while flag:\n",
    "        countdown = input(\"Please enter an integer: \")\n",
    "        try:\n",
    "            countdown = int(countdown)\n",
    "            if first_num_value == 8.9:\n",
    "                second_num_value = countdown\n",
    "            flag = False\n",
    "        except:\n",
    "            print(\"You must enter an integer\")\n",
    "            try:\n",
    "                countdown = float(countdown)\n",
    "                first_num_value = countdown\n",
    "            except:\n",
    "                first_num_value = 0\n",
    "                continue\n",
    "        \n",
    "    if first_num_value == 8.9 and second_num_value == 7:\n",
    "        for num in range(countdown, 0, -1):\n",
    "            print(num,\"...\", sep=\"\", end=\" \")\n",
    "            sleep(.5)\n",
    "        print(\"\\nGo!\")\n",
    "\n",
    "countdown_from_user_input()"
   ]
  },
  {
   "cell_type": "markdown",
   "metadata": {},
   "source": [
    "### Question 2 (2 points)"
   ]
  },
  {
   "cell_type": "markdown",
   "metadata": {},
   "source": [
    "Print a star formation as follows:\n",
    "\n",
    "                                             * \n",
    "                                             * * \n",
    "                                             * * * \n",
    "                                             * * * * \n",
    "                                             \n",
    "Ask the user to input the height of the formation first. For example, 4 should return the formation above. Show the output of the program if the user inputs `5`. "
   ]
  },
  {
   "cell_type": "code",
   "execution_count": 53,
   "metadata": {},
   "outputs": [
    {
     "name": "stdout",
     "output_type": "stream",
     "text": [
      "                                         * \n",
      "                                         * * \n",
      "                                         * * * \n",
      "                                         * * * * \n",
      "                                         * * * * * \n"
     ]
    }
   ],
   "source": [
    "def star_formation():\n",
    "    while True:\n",
    "        try:\n",
    "            height = int(input(\"Please enter the height of the formation: \"))\n",
    "            break\n",
    "        except:\n",
    "            print(\"Please enter an integer\")\n",
    "    spacer = \"                                         \"\n",
    "    \n",
    "    for stars in range(1, height+1):\n",
    "        print(spacer, end=\"\")\n",
    "        print(\"* \" * stars, end=\"\\n\")\n",
    "\n",
    "star_formation()"
   ]
  },
  {
   "cell_type": "markdown",
   "metadata": {},
   "source": [
    "### Question 3 (6 points)"
   ]
  },
  {
   "cell_type": "markdown",
   "metadata": {},
   "source": [
    "a) Write a program where you play 3 \"Rock, Paper, Scissors\" games against the computer. Simulate a random choice for the computer each game and ask the user to enter either rock, paper, or scissors. Print the number of times the user won out of 3 games. Show the output of the program after playing the game. \n",
    "\n",
    "Recall: rock beats scissors; scissors beats paper; paper beats rock.\n",
    "\n",
    "Example:\n",
    "\n",
    "                                    \"You won <num_win> out of 3 games.\""
   ]
  },
  {
   "cell_type": "code",
   "execution_count": 131,
   "metadata": {},
   "outputs": [
    {
     "name": "stdout",
     "output_type": "stream",
     "text": [
      "Let's play 'Rock, Paper, Scissors'! ∩^ω^∩\n",
      "It is best out of three (*•̀ᴗ•́*)و ̑̑\n",
      "Rock... Paper... Scissors... Shoot! ┗|｀O′|┛\n",
      "I won! ꉂꉂ(ᵔᗜᵔ*)  I picked paper and you picked rock.\n",
      "Rock... Paper... Scissors... Shoot! ┗|｀O′|┛\n",
      "You won! ｡ﾟ(TヮT) ᕤ  I picked rock and you picked paper.\n",
      "Rock... Paper... Scissors... Shoot! ┗|｀O′|┛\n",
      "It's a draw! ó﹏ò  I picked scissors and you picked scissors ๑‘͡o_‘͡o๑;;\n",
      "Good game! You won 1 out of 3 games (｡❛ᴗ❛｡)\n"
     ]
    }
   ],
   "source": [
    "# import the random function and name the alias rm\n",
    "import random as rm\n",
    "# code to generate a random choice of rock, paper, scissors for the computer\n",
    "comp_choice = rm.choice(['rock', 'paper', 'scissors'])\n",
    "user_choice = \"\"\n",
    "num_win = 0\n",
    "\n",
    "from time import sleep\n",
    "\n",
    "def winner():          #   checks who the winner is\n",
    "    global user_choice\n",
    "    global comp_choice\n",
    "    global num_win\n",
    "    if user_choice == comp_choice:                                          # draw\n",
    "        print(\"It's a draw! ó﹏ò \", \"I picked {} and you picked {} ๑‘͡o_‘͡o๑;;\".format(comp_choice, user_choice))\n",
    "    elif user_choice.lower()==\"rock\" and comp_choice==\"paper\":              # comp win\n",
    "        print(\"I won! ꉂꉂ(ᵔᗜᵔ*) \", \"I picked {} and you picked {}.\".format(comp_choice, user_choice))\n",
    "    elif user_choice.lower()==\"paper\" and comp_choice==\"scissors\":          # comp win\n",
    "        print(\"I won! ٩( ᐛ )و \", \"I picked {} and you picked {}.\".format(comp_choice, user_choice))\n",
    "    elif user_choice.lower()==\"scissors\" and comp_choice==\"rock\":           # comp win\n",
    "        print(\"I won! ◝(ᵔᵕᵔ)◜ \", \"I picked {} and you picked {}.\".format(comp_choice, user_choice))\n",
    "    elif user_choice.lower()==\"paper\" and comp_choice==\"rock\":              # user win\n",
    "        print(\"You won! ｡ﾟ(TヮT) ᕤ \", \"I picked {} and you picked {}.\".format(comp_choice, user_choice))\n",
    "        num_win += 1\n",
    "    elif user_choice.lower()==\"scissors\" and comp_choice==\"paper\":          # user win\n",
    "        print(\"You won! (╥﹏╥) \", \"I picked {} and you picked {}.\".format(comp_choice, user_choice))\n",
    "        num_win += 1\n",
    "    elif user_choice.lower()==\"rock\" and comp_choice==\"scissors\":           # user win\n",
    "        print(\"You won! (´。＿。｀) \", \"I picked {} and you picked {}.\".format(comp_choice, user_choice))\n",
    "        num_win += 1\n",
    "\n",
    "def countdown():       #   countsdown \"rock, paper, scissors\"\n",
    "    t = .5\n",
    "    print(\"Rock...\", end=\" \")\n",
    "    sleep(t)\n",
    "    print(\"Paper...\", end=\" \")\n",
    "    sleep(t)\n",
    "    print(\"Scissors...\", end=\" \")\n",
    "    sleep(t)\n",
    "    print(\"Shoot! ┗|｀O′|┛\")\n",
    "    sleep(t)\n",
    "\n",
    "    winner()\n",
    "\n",
    "def initiate_game():   #   starts a game\n",
    "    global user_choice\n",
    "    flag = True\n",
    "    while flag:\n",
    "        user_choice = input(\"Pick rock, paper, or scissors: \")\n",
    "        if user_choice.lower()==\"rock\" or user_choice.lower()==\"paper\" or user_choice.lower()==\"scissors\":\n",
    "            flag = False\n",
    "        else:\n",
    "            print(\"Invalid choice! (ㅠ×ㅠ )=( ㅠ×ㅠ)\")\n",
    "    countdown()\n",
    "\n",
    "\n",
    "print(\"Let's play 'Rock, Paper, Scissors'! ∩^ω^∩\")\n",
    "print(\"It is best out of three (*•̀ᴗ•́*)و ̑̑\")\n",
    "\n",
    "for i in range(3):\n",
    "    initiate_game()\n",
    "    comp_choice = rm.choice(['rock', 'paper', 'scissors'])\n",
    "print(f\"Good game! You won {num_win} out of 3 games (｡❛ᴗ❛｡)\")"
   ]
  },
  {
   "cell_type": "markdown",
   "metadata": {},
   "source": [
    "b) Write a program where you play \"Rock, Paper, Scissors\" games against the computer until you have won 3 games. Simulate a random choice for the computer each game and ask the user to enter either rock, paper, or scissors. Print the number of games it took to win 3 times. Show the output of the program after playing the game.\n",
    "\n",
    "Example:\n",
    "\n",
    "                                    \"You won 3 out of <num_games> games.\""
   ]
  },
  {
   "cell_type": "code",
   "execution_count": 135,
   "metadata": {},
   "outputs": [
    {
     "name": "stdout",
     "output_type": "stream",
     "text": [
      "Let's play 'Rock, Paper, Scissors'! ∩^ω^∩\n",
      "Rock... Paper... Scissors... Shoot! ┗|｀O′|┛\n",
      "It's a draw! ó﹏ò  I picked rock and you picked rock ๑‘͡o_‘͡o๑;;\n",
      "Rock... Paper... Scissors... Shoot! ┗|｀O′|┛\n",
      "It's a draw! ó﹏ò  I picked paper and you picked paper ๑‘͡o_‘͡o๑;;\n",
      "Rock... Paper... Scissors... Shoot! ┗|｀O′|┛\n",
      "You won! (╥﹏╥)  I picked paper and you picked scissors.\n",
      "Rock... Paper... Scissors... Shoot! ┗|｀O′|┛\n",
      "It's a draw! ó﹏ò  I picked paper and you picked paper ๑‘͡o_‘͡o๑;;\n",
      "Rock... Paper... Scissors... Shoot! ┗|｀O′|┛\n",
      "You won! (´。＿。｀)  I picked scissors and you picked rock.\n",
      "Rock... Paper... Scissors... Shoot! ┗|｀O′|┛\n",
      "I won! ٩( ᐛ )و  I picked scissors and you picked paper.\n",
      "Rock... Paper... Scissors... Shoot! ┗|｀O′|┛\n",
      "It's a draw! ó﹏ò  I picked paper and you picked paper ๑‘͡o_‘͡o๑;;\n",
      "Rock... Paper... Scissors... Shoot! ┗|｀O′|┛\n",
      "I won! ٩( ᐛ )و  I picked scissors and you picked paper.\n",
      "Rock... Paper... Scissors... Shoot! ┗|｀O′|┛\n",
      "You won! ｡ﾟ(TヮT) ᕤ  I picked rock and you picked paper.\n",
      "Good game! You won 3 out of 9 games (｡❛ᴗ❛｡)\n"
     ]
    }
   ],
   "source": [
    "# import the random function and name the alias rm\n",
    "import random as rm\n",
    "# code to generate a random choice of rock, paper, scissors for the computer\n",
    "comp_choice = rm.choice(['rock', 'paper', 'scissors'])\n",
    "user_choice = \"\"\n",
    "num_win = 0\n",
    "num_games = 0\n",
    "\n",
    "from time import sleep\n",
    "\n",
    "def winner():          #   checks who the winner is\n",
    "    global user_choice\n",
    "    global comp_choice\n",
    "    global num_win\n",
    "    if user_choice == comp_choice:                                          # draw\n",
    "        print(\"It's a draw! ó﹏ò \", \"I picked {} and you picked {} ๑‘͡o_‘͡o๑;;\".format(comp_choice, user_choice))\n",
    "        sleep(0)\n",
    "    elif user_choice.lower()==\"rock\" and comp_choice==\"paper\":              # comp win\n",
    "        print(\"I won! ꉂꉂ(ᵔᗜᵔ*) \", \"I picked {} and you picked {}.\".format(comp_choice, user_choice))\n",
    "        sleep(0)\n",
    "    elif user_choice.lower()==\"paper\" and comp_choice==\"scissors\":          # comp win\n",
    "        print(\"I won! ٩( ᐛ )و \", \"I picked {} and you picked {}.\".format(comp_choice, user_choice))\n",
    "        sleep(0)\n",
    "    elif user_choice.lower()==\"scissors\" and comp_choice==\"rock\":           # comp win\n",
    "        print(\"I won! ◝(ᵔᵕᵔ)◜ \", \"I picked {} and you picked {}.\".format(comp_choice, user_choice))\n",
    "        sleep(0)\n",
    "    elif user_choice.lower()==\"paper\" and comp_choice==\"rock\":              # user win\n",
    "        print(\"You won! ｡ﾟ(TヮT) ᕤ \", \"I picked {} and you picked {}.\".format(comp_choice, user_choice))\n",
    "        num_win += 1\n",
    "    elif user_choice.lower()==\"scissors\" and comp_choice==\"paper\":          # user win\n",
    "        print(\"You won! (╥﹏╥) \", \"I picked {} and you picked {}.\".format(comp_choice, user_choice))\n",
    "        num_win += 1\n",
    "    elif user_choice.lower()==\"rock\" and comp_choice==\"scissors\":           # user win\n",
    "        print(\"You won! (´。＿。｀) \", \"I picked {} and you picked {}.\".format(comp_choice, user_choice))\n",
    "        num_win += 1\n",
    "\n",
    "def countdown():       #   countsdown \"rock, paper, scissors\"\n",
    "    t = .5\n",
    "    print(\"Rock...\", end=\" \")\n",
    "    sleep(t)\n",
    "    print(\"Paper...\", end=\" \")\n",
    "    sleep(t)\n",
    "    print(\"Scissors...\", end=\" \")\n",
    "    sleep(t)\n",
    "    print(\"Shoot! ┗|｀O′|┛\")\n",
    "    sleep(t)\n",
    "\n",
    "    winner()\n",
    "\n",
    "def initiate_game():   #   starts a game\n",
    "    global user_choice\n",
    "    global num_games\n",
    "    flag = True\n",
    "    num_games += 1\n",
    "    while flag:\n",
    "        user_choice = input(\"Pick rock, paper, or scissors: \")\n",
    "        if user_choice.lower()==\"rock\" or user_choice.lower()==\"paper\" or user_choice.lower()==\"scissors\":\n",
    "            flag = False\n",
    "        else:\n",
    "            print(\"Invalid choice! (ㅠ×ㅠ )=( ㅠ×ㅠ)\")\n",
    "    countdown()\n",
    "\n",
    "\n",
    "print(\"Let's play 'Rock, Paper, Scissors'! ∩^ω^∩\")\n",
    "while num_win != 3:\n",
    "    initiate_game()\n",
    "    comp_choice = rm.choice(['rock', 'paper', 'scissors'])\n",
    "print(f\"Good game! You won 3 out of {num_games} games (｡❛ᴗ❛｡)\")"
   ]
  },
  {
   "cell_type": "markdown",
   "metadata": {},
   "source": [
    "### Question 4 (6 points)"
   ]
  },
  {
   "cell_type": "markdown",
   "metadata": {},
   "source": [
    "a) Write a program (loop) that prints all the factors of a positive integer input by the user. A factor is any positive integer that divides the number and leaves no remainder. Show the output of the program if the user inputs `24`. \n",
    "\n",
    "Example: The factors of 8 are 1, 2, 4, 8."
   ]
  },
  {
   "cell_type": "code",
   "execution_count": 94,
   "metadata": {},
   "outputs": [
    {
     "name": "stdout",
     "output_type": "stream",
     "text": [
      "(enter a non-integer value to break the loop)\n",
      "\n",
      "The factors of 24 are 1, 2, 3, 4, 6, 8, 12, 24.\n"
     ]
    }
   ],
   "source": [
    "print(\"(enter a non-integer value to break the loop)\\n\")\n",
    "sleep(.1)\n",
    "while True:\n",
    "    try:\n",
    "        integer = int(input(\"Please enter a positive integer: \"))\n",
    "        if integer < 0 or integer==0:\n",
    "            print(\"Please enter a positive integer\")\n",
    "        else:\n",
    "            factors = \"\"\n",
    "            for num in range(1, integer+1):\n",
    "                if integer%num == 0:\n",
    "                    if num == integer:\n",
    "                        factors += (str(num))\n",
    "                    else:\n",
    "                        factors += (str(num))+', '\n",
    "            print(f\"The factors of {integer} are {factors}.\")\n",
    "    except:\n",
    "        break"
   ]
  },
  {
   "cell_type": "markdown",
   "metadata": {},
   "source": [
    "b) Write a **function** called `number_of_factors` that takes an integer and returns how many factors the number has. Run your function with `24` to check if it works."
   ]
  },
  {
   "cell_type": "code",
   "execution_count": 110,
   "metadata": {},
   "outputs": [
    {
     "name": "stdout",
     "output_type": "stream",
     "text": [
      "24 has 8 factors.\n"
     ]
    }
   ],
   "source": [
    "def number_of_factors(integer:int):\n",
    "    counter = 0\n",
    "    abs_integer = abs(integer)\n",
    "    for num in range(1, abs_integer+1):\n",
    "        if abs_integer%num == 0:\n",
    "            counter += 1\n",
    "    print(f\"{integer} has {counter} factors.\")\n",
    "\n",
    "number_of_factors(24)"
   ]
  },
  {
   "cell_type": "markdown",
   "metadata": {},
   "source": [
    "### Question 5 (6 points)"
   ]
  },
  {
   "cell_type": "markdown",
   "metadata": {},
   "source": [
    "a) Write a program (loop) that identifies whether a positive integer input by the user is prime or not. A prime number is a number whose only divisors are 1 and itself. Show the output when the program is used to check if `89` is prime or not."
   ]
  },
  {
   "cell_type": "code",
   "execution_count": 113,
   "metadata": {},
   "outputs": [
    {
     "name": "stdout",
     "output_type": "stream",
     "text": [
      "(enter a non-integer value to break the loop)\n",
      "\n",
      "89 is a prime number\n"
     ]
    }
   ],
   "source": [
    "print(\"(enter a non-integer value to break the loop)\\n\")\n",
    "sleep(.1)\n",
    "while True:\n",
    "    try:\n",
    "        integer = int(input(\"Please enter a positive integer: \"))\n",
    "        if integer <= 0:\n",
    "            print(\"Please enter a positive integer\")\n",
    "        else:\n",
    "            counter = 0\n",
    "            for num in range(1, integer//2+1):\n",
    "                if integer%num == 0:\n",
    "                    counter += 1\n",
    "            if counter > 1:\n",
    "                print(f\"{integer} is not a prime number\")\n",
    "            else:\n",
    "                print(f\"{integer} is a prime number\")\n",
    "    except:\n",
    "        break"
   ]
  },
  {
   "cell_type": "markdown",
   "metadata": {},
   "source": [
    "b) Write a **function** that checks if a positive integer is prime or not. It should take one integer input and return a boolean. Run your function with `197` to check if it works."
   ]
  },
  {
   "cell_type": "code",
   "execution_count": 130,
   "metadata": {},
   "outputs": [
    {
     "data": {
      "text/plain": [
       "True"
      ]
     },
     "execution_count": 130,
     "metadata": {},
     "output_type": "execute_result"
    }
   ],
   "source": [
    "def is_a_prime(integer:int):\n",
    "    counter = 0\n",
    "    if integer <= 0:\n",
    "        pass\n",
    "    else:\n",
    "        for num in range(1, integer//2+1):\n",
    "            if integer%num == 0:\n",
    "                counter += 1\n",
    "        if counter > 1:\n",
    "            return False\n",
    "        else:\n",
    "            return True\n",
    "\n",
    "is_a_prime(197)"
   ]
  },
  {
   "cell_type": "markdown",
   "metadata": {},
   "source": [
    "### Question 6 (4 points)"
   ]
  },
  {
   "cell_type": "markdown",
   "metadata": {},
   "source": [
    "Write a function that calculates the area of a rectangle. The function should have an input for length (in inches) and width (in inches). And have 2 ouputs: the area in terms of square inches and the area in terms of square feet. There are 12 inches in 1 foot. Run your function with a length of 102 inches and width of 60 inches to check if it works."
   ]
  },
  {
   "cell_type": "code",
   "execution_count": 138,
   "metadata": {},
   "outputs": [
    {
     "data": {
      "text/plain": [
       "('Area in sq in: 6120', 'Area in sq ft: 42.5')"
      ]
     },
     "execution_count": 138,
     "metadata": {},
     "output_type": "execute_result"
    }
   ],
   "source": [
    "def area_of_rect(length, width):\n",
    "    area_in_sq_in = length * width\n",
    "    area_in_sq_ft = (length/12) * (width/12)\n",
    "    return (f\"Area in sq in: {area_in_sq_in}\", f\"Area in sq ft: {area_in_sq_ft}\")\n",
    "\n",
    "area_of_rect(102, 60)"
   ]
  },
  {
   "cell_type": "markdown",
   "metadata": {},
   "source": [
    "### Question 7 (3 points)"
   ]
  },
  {
   "cell_type": "markdown",
   "metadata": {},
   "source": [
    "Write a function that takes a word and a sentence as two string inputs and returns the number of times the word occurs in the sentence as the output.\n",
    "\n",
    "Run your function with **\"sea\"** and **“Sea shells are on the sea shore when the sea is calm.”** inputs to check if it works. Your function should work for any word and sentence. \n",
    "\n",
    "Note: at this time it does not have to differentiate a distinct word just if it appears in any form. Example: **“The sea gives me nausea.”** would return 2."
   ]
  },
  {
   "cell_type": "code",
   "execution_count": 145,
   "metadata": {},
   "outputs": [
    {
     "data": {
      "text/plain": [
       "3"
      ]
     },
     "execution_count": 145,
     "metadata": {},
     "output_type": "execute_result"
    }
   ],
   "source": [
    "def occurences_in_sentence(word, sentence):\n",
    "    return sentence.lower().count(word.lower())\n",
    "\n",
    "occurences_in_sentence(\"sea\", \"Sea shells are on the sea shore when the sea is calm.\")"
   ]
  }
 ],
 "metadata": {
  "kernelspec": {
   "display_name": "Python 3 (ipykernel)",
   "language": "python",
   "name": "python3"
  },
  "language_info": {
   "codemirror_mode": {
    "name": "ipython",
    "version": 3
   },
   "file_extension": ".py",
   "mimetype": "text/x-python",
   "name": "python",
   "nbconvert_exporter": "python",
   "pygments_lexer": "ipython3",
   "version": "3.12.2"
  }
 },
 "nbformat": 4,
 "nbformat_minor": 4
}
